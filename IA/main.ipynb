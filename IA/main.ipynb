{
 "cells": [
  {
   "cell_type": "markdown",
   "metadata": {},
   "source": [
    "# Fine-tuning LLaVA vision model: ViSC8"
   ]
  },
  {
   "cell_type": "code",
   "execution_count": 6,
   "metadata": {},
   "outputs": [],
   "source": [
    "import os\n",
    "import pandas as pd\n",
    "import torch\n",
    "import torch.nn as nn\n",
    "import torch.optim as optim\n",
    "from torch.utils.data import Dataset, DataLoader\n",
    "from torchvision import transforms\n",
    "from torchvision.datasets import ImageFolder\n",
    "from transformers import AutoModelForImageClassification, AutoTokenizer\n",
    "from PIL import Image"
   ]
  },
  {
   "cell_type": "markdown",
   "metadata": {},
   "source": [
    "## Object WebPageDataset\n",
    "This object represents our dataset and creates utilities for working with the data.  \n",
    "WebPageDataset inherits from __torch.utils.data.Dataset__.\n",
    "### Parameters\n",
    "- __csv_file:__ Path to an csv file.\n",
    "- __root_dir:__ Path to the folder containing the images.\n",
    "- __transform:__ A torchvision `transforms` object instance."
   ]
  },
  {
   "cell_type": "code",
   "execution_count": 7,
   "metadata": {},
   "outputs": [],
   "source": [
    "class WebPageDataset(Dataset):\n",
    "    def __init__(self, csv_file:str, root_dir:str, transform=None):\n",
    "        self.ratings_df = pd.read_csv(csv_file)\n",
    "        self.root_dir = root_dir\n",
    "        self.transform = transform\n",
    "\n",
    "    def __len__(self) -> int:\n",
    "        return len(self.ratings_df)\n",
    "\n",
    "    def __getitem__(self, idx:int):\n",
    "        img_name = os.path.join(self.root_dir, f\"{self.ratings_df.iloc[idx, 0]}.png\")\n",
    "        image = Image.open(img_name).convert(\"RGB\")\n",
    "        rating = self.ratings_df.iloc[idx, 1]\n",
    "\n",
    "        if self.transform: image = self.transform(image)\n",
    "        return image, rating\n"
   ]
  },
  {
   "cell_type": "code",
   "execution_count": 8,
   "metadata": {},
   "outputs": [],
   "source": [
    "DATA_DIR_IMGS:str = \"./Dataset/comparison-based-dataset/images\"\n",
    "DATA_DIR_GRADES:str = \"./Dataset/comparison-based-dataset/website_scores.csv\"\n",
    "\n",
    "TRANSFORM = transforms.Compose([ transforms.ToTensor()])\n",
    "\n",
    "DATASET = WebPageDataset(DATA_DIR_GRADES, DATA_DIR_IMGS, TRANSFORM)\n",
    "DATA_LOADER = DataLoader(DATASET, batch_size=32, shuffle=True)"
   ]
  }
 ],
 "metadata": {
  "kernelspec": {
   "display_name": "Python 3",
   "language": "python",
   "name": "python3"
  },
  "language_info": {
   "codemirror_mode": {
    "name": "ipython",
    "version": 3
   },
   "file_extension": ".py",
   "mimetype": "text/x-python",
   "name": "python",
   "nbconvert_exporter": "python",
   "pygments_lexer": "ipython3",
   "version": "3.12.3"
  }
 },
 "nbformat": 4,
 "nbformat_minor": 2
}
